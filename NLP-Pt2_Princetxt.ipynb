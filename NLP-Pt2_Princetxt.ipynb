{
 "cells": [
  {
   "cell_type": "code",
   "execution_count": 1,
   "metadata": {},
   "outputs": [
    {
     "name": "stdout",
     "output_type": "stream",
     "text": [
      "The Little Prince\n",
      "written and illustrated by\n",
      "Antoi\n",
      "90305\n"
     ]
    }
   ],
   "source": [
    "# importing required nltk libraries\n",
    "import nltk\n",
    "from nltk import sent_tokenize\n",
    "\n",
    "f = open('TheLittlePrince.txt',encoding='utf-8')\n",
    "text = f.read()\n",
    "print(text[:50])\n",
    "print(len(text))"
   ]
  },
  {
   "cell_type": "code",
   "execution_count": 2,
   "metadata": {},
   "outputs": [
    {
     "name": "stdout",
     "output_type": "stream",
     "text": [
      "['The Little Prince\\nwritten and illustrated by\\nAntoine de Saint Exupéry\\ntranslated from the French by Katherine Woods\\n\\nOnce when I was six years old I saw a magnificent picture in a book, called True Stories from Nature, about the primeval forest.', 'It was a picture of a boa constrictor in the act of swallowing an animal.', 'Here is a copy of the drawing.', 'In the book it said: \"Boa constrictors swallow their prey whole, without chewing it.', 'After that they are not able to move, and they sleep through the six months that they need for digestion.\"', 'I pondered deeply, then, over the adventures of the jungle.', 'And after some work with a colored pencil I succeeded in making my first drawing.', 'My Drawing Number One.', 'It looked something like this:\\n\\nDrawing Number One\\nI showed my masterpiece to the grown-ups, and asked them whether the drawing frightened them.', 'But they answered: \"Frighten?']\n"
     ]
    }
   ],
   "source": [
    "# Preprocessing, as explained in the Labs\n",
    "# Separate the text into sentences first\n",
    "textsplit = nltk.sent_tokenize(text)\n",
    "print(textsplit[:10])"
   ]
  },
  {
   "cell_type": "code",
   "execution_count": 3,
   "metadata": {},
   "outputs": [],
   "source": [
    "# Apply the word tokenizer to each sentence\n",
    "lowertext = [w.lower() for w in textsplit]"
   ]
  },
  {
   "cell_type": "code",
   "execution_count": 6,
   "metadata": {},
   "outputs": [
    {
     "name": "stdout",
     "output_type": "stream",
     "text": [
      "[['the', 'little', 'prince', 'written', 'and', 'illustrated', 'by', 'antoine', 'de', 'saint', 'exupéry', 'translated', 'from', 'the', 'french', 'by', 'katherine', 'woods', 'once', 'when', 'i', 'was', 'six', 'years', 'old', 'i', 'saw', 'a', 'magnificent', 'picture', 'in', 'a', 'book', ',', 'called', 'true', 'stories', 'from', 'nature', ',', 'about', 'the', 'primeval', 'forest', '.'], ['it', 'was', 'a', 'picture', 'of', 'a', 'boa', 'constrictor', 'in', 'the', 'act', 'of', 'swallowing', 'an', 'animal', '.']]\n"
     ]
    },
    {
     "data": {
      "text/plain": [
       "1846"
      ]
     },
     "execution_count": 6,
     "metadata": {},
     "output_type": "execute_result"
    }
   ],
   "source": [
    "tokentext = [nltk.word_tokenize(sent) for sent in lowertext]\n",
    "print(tokentext[:2])\n",
    "#the output is a list of strings that contains the sentences\n",
    "type(tokentext)\n",
    "len(tokentext)"
   ]
  },
  {
   "cell_type": "code",
   "execution_count": 7,
   "metadata": {},
   "outputs": [
    {
     "name": "stdout",
     "output_type": "stream",
     "text": [
      "[[('the', 'DT'), ('little', 'JJ'), ('prince', 'NN'), ('written', 'VBN'), ('and', 'CC'), ('illustrated', 'VBN'), ('by', 'IN'), ('antoine', 'NN'), ('de', 'IN'), ('saint', 'NN'), ('exupéry', 'NN'), ('translated', 'VBN'), ('from', 'IN'), ('the', 'DT'), ('french', 'JJ'), ('by', 'IN'), ('katherine', 'JJ'), ('woods', 'NNS'), ('once', 'RB'), ('when', 'WRB'), ('i', 'NN'), ('was', 'VBD'), ('six', 'CD'), ('years', 'NNS'), ('old', 'JJ'), ('i', 'NN'), ('saw', 'VBD'), ('a', 'DT'), ('magnificent', 'JJ'), ('picture', 'NN'), ('in', 'IN'), ('a', 'DT'), ('book', 'NN'), (',', ','), ('called', 'VBN'), ('true', 'JJ'), ('stories', 'NNS'), ('from', 'IN'), ('nature', 'NN'), (',', ','), ('about', 'IN'), ('the', 'DT'), ('primeval', 'NN'), ('forest', 'NN'), ('.', '.')], [('it', 'PRP'), ('was', 'VBD'), ('a', 'DT'), ('picture', 'NN'), ('of', 'IN'), ('a', 'DT'), ('boa', 'NN'), ('constrictor', 'NN'), ('in', 'IN'), ('the', 'DT'), ('act', 'NN'), ('of', 'IN'), ('swallowing', 'VBG'), ('an', 'DT'), ('animal', 'NN'), ('.', '.')]]\n"
     ]
    }
   ],
   "source": [
    "## POS Tagging, to retrieve adjective (JJs) and adverb (RBs) tags\n",
    "\n",
    "# use the Stanford POS tagger to POS tag tokens of each sentence\n",
    "# this is the default tagger in nltk\n",
    "taggedtext = [nltk.pos_tag(tokens) for tokens in tokentext]\n",
    "print(taggedtext[:2])"
   ]
  },
  {
   "cell_type": "code",
   "execution_count": 8,
   "metadata": {},
   "outputs": [
    {
     "name": "stdout",
     "output_type": "stream",
     "text": [
      "First 10 adjective phrases:  ['not able ', 'not able ', 'very useful ', 'greatly pleased ', 'so i ', 'scarcely enough ', 'more isolated ', 'most extraordinary ', 'too overpowering ', 'so i ']\n",
      "Top adjective phrases by frequency: \n",
      "so i  6\n",
      "so much  6\n",
      "so small  5\n",
      "very much  5\n",
      "not able  4\n",
      "very small  4\n",
      "not important  3\n",
      "very useful  2\n",
      "once more  2\n",
      "too much  2\n",
      "so important  2\n",
      "very first  2\n",
      "too small  2\n",
      "so little  2\n",
      "so sad  2\n",
      "very busy  2\n",
      "very simple  2\n",
      "very beautiful  2\n",
      "much more difficult  2\n",
      "very strange  2\n",
      "very different  2\n",
      "so weak  2\n",
      "not worth  2\n",
      "too heavy  2\n",
      "greatly pleased  1\n",
      "scarcely enough  1\n",
      "more isolated  1\n",
      "most extraordinary  1\n",
      "too overpowering  1\n",
      "very dangerous  1\n",
      "very cumbersome  1\n",
      "too old  1\n",
      "very surprised  1\n",
      "not so small  1\n",
      "so many  1\n",
      "so good  1\n",
      "much greater  1\n",
      "no longer interested  1\n",
      "too tall  1\n",
      "too short  1\n",
      "now good  1\n",
      "now bad  1\n",
      "generally fair-to-middling  1\n",
      "not little  1\n",
      "as big  1\n",
      "so big  1\n",
      "strictly correct  1\n",
      "too many  1\n",
      "very tedious  1\n",
      "very easy  1\n",
      "Length of adjective phrase sentences:  183\n"
     ]
    }
   ],
   "source": [
    "# Following our NLTK textbook, chapter on Information Extraction--Chunking (https://www.nltk.org/book/ch07.html)\n",
    "\n",
    "# Using CHUNKING to parse sentences \n",
    "# to look for \"adjective phrases\", i.e. phrases (or chunks) that have adverbs and adjectives ('RB'+'JJ')\n",
    "# First step: writing a grammar that defines the POS in the chunk\n",
    "# we name this grammar \"ADJPH\" (\"ADJective PHrase\") using regexes \n",
    "\n",
    "import re\n",
    "grammar_adjph = \"ADJPH: {<RB.?>+<JJ.?>}\"\n",
    "# This regex reads as: \"find groups (\"< >\") of RBs (adverbs) together with groups of JJs (adjectives), with groups defineds as\n",
    "# RBs with any ending (the \".\" is a placeholder or wildcard for the \"R\" and the \"S\" at the end of RBR and RBS, \n",
    "# while \"?\" indicates \"optional character\" so RB can be found alone as well). Same regex operators apply to JJs.\n",
    "# Feel free to edit the regex in this grammar, or come up with your own.\n",
    "\n",
    "# Second step: import the nltk parser to process each sentence\n",
    "chunk_parser_adj = nltk.RegexpParser(grammar_adjph)\n",
    "\n",
    "adjph_tags = []\n",
    "for sent in taggedtext:\n",
    "    if len(sent) > 0:\n",
    "        tree = chunk_parser_adj.parse(sent)\n",
    "        for subtree in tree.subtrees():\n",
    "            if subtree.label() == 'ADJPH':\n",
    "                adjph_tags.append(subtree)\n",
    "                \n",
    "# Visualizing the actual adjective phrase\n",
    "adjective_phrases = []\n",
    "for sent in adjph_tags:\n",
    "    temp = ''\n",
    "    for w, t in sent:\n",
    "        temp += w+ ' '    \n",
    "    adjective_phrases.append(temp)\n",
    "    \n",
    "print('First 10 adjective phrases: ', adjective_phrases[:10])\n",
    "\n",
    "\n",
    "# Following our NLTK textbook, chapter 1 on Language Processing (https://www.nltk.org/book/ch01.html)\n",
    "\n",
    "## FREQUENCY DISTRIBUTIONS\n",
    "# Top 50 adjective phrases\n",
    "freq_adjph = nltk.FreqDist(adjective_phrases)\n",
    "\n",
    "print('Top adjective phrases by frequency: ')\n",
    "for word, freq in freq_adjph.most_common(50):\n",
    "    print(word, freq)\n",
    "\n",
    "            \n",
    "#print the list of our sentences:\n",
    "print('Length of adjective phrase sentences: ', len(adjph_tags))\n"
   ]
  },
  {
   "cell_type": "code",
   "execution_count": 9,
   "metadata": {},
   "outputs": [
    {
     "name": "stdout",
     "output_type": "stream",
     "text": [
      "                  freq\n",
      "adj                   \n",
      "not able             4\n",
      "very useful          2\n",
      "greatly pleased      1\n",
      "so i                 6\n",
      "scarcely enough      1\n",
      "...                ...\n",
      "so naïve             1\n",
      "too sat              1\n",
      "well content         1\n",
      "not such             1\n",
      "so now i             1\n",
      "\n",
      "[140 rows x 1 columns]\n"
     ]
    }
   ],
   "source": [
    "import pandas as pd\n",
    "\n",
    "#freq_adjph\n",
    "df_fadj = pd.DataFrame.from_dict(freq_adjph, orient='index')\n",
    "df_fadj.columns = ['freq']\n",
    "df_fadj.index.name = 'adj'\n",
    "print(df_fadj)\n",
    "\n",
    "#df = pd.DataFrame(freq_adjph, columns = ['word','freq'])\n",
    "#print(df)"
   ]
  },
  {
   "cell_type": "code",
   "execution_count": 10,
   "metadata": {},
   "outputs": [
    {
     "data": {
      "text/plain": [
       "<AxesSubplot:>"
      ]
     },
     "execution_count": 10,
     "metadata": {},
     "output_type": "execute_result"
    },
    {
     "data": {
      "image/png": "[encoded data removed]",
      "text/plain": [
       "<Figure size 432x288 with 1 Axes>"
      ]
     },
     "metadata": {
      "needs_background": "light"
     },
     "output_type": "display_data"
    }
   ],
   "source": [
    "import matplotlib.pyplot as plt\n",
    "import numpy as np\n",
    "\n",
    "freqfreq = df_fadj['freq'].value_counts()\n",
    "\n",
    "freqfreq.plot.barh()"
   ]
  },
  {
   "cell_type": "code",
   "execution_count": 11,
   "metadata": {},
   "outputs": [
    {
     "name": "stdout",
     "output_type": "stream",
     "text": [
      "First 10 adverb phrases:  ['so then ', \"n't much \", 'certainly very much ', 'now i ', 'very slowly ', 'not disobey ', 'little crossly ', 'so often ', 'so then ', 'already very sickly ']\n",
      "Top adverb phrases by frequency: \n",
      "so then  5\n",
      "far away  4\n",
      "not even  4\n",
      "not so  3\n",
      "very much  3\n",
      "very well  3\n",
      "just so  3\n",
      "once again  3\n",
      "very slowly  2\n",
      "much too  2\n",
      "no longer  2\n",
      "not yet  2\n",
      "certainly very  2\n",
      "not very  2\n",
      "very rarely  2\n",
      "too often  2\n",
      "just alike  2\n",
      "too long  2\n",
      "n't much  1\n",
      "certainly very much  1\n",
      "now i  1\n",
      "not disobey  1\n",
      "little crossly  1\n",
      "so often  1\n",
      "already very sickly  1\n",
      "very far away  1\n",
      "very far  1\n",
      "not really  1\n",
      "only once  1\n",
      "over again  1\n",
      "inoffensively upward  1\n",
      "as soon  1\n",
      "too late  1\n",
      "so closely  1\n",
      "not much  1\n",
      "so hard  1\n",
      "there no  1\n",
      "too far away  1\n",
      "extremely ugly  1\n",
      "really very  1\n",
      "i soon  1\n",
      "peacefully away  1\n",
      "very closely  1\n",
      "i not  1\n",
      "easily enough  1\n",
      "very quickly  1\n",
      "very close  1\n",
      "just as  1\n",
      "now completely  1\n",
      "not only  1\n",
      "Length of adverb phrase sentences:  110\n"
     ]
    }
   ],
   "source": [
    "# Now we look for \"adverb phrases\" or chunks that have 2 consecutive adverbs ('RB')\n",
    "# First step: writing a grammar that defines POS rules of the adverb phrase the chunk\n",
    "# we name this grammar \"ADVPH\" (\"ADVerb PHrase\")\n",
    "# Again, feel free to edit the regex in this grammar, or come up with your own!\n",
    "grammar_advph = \"ADVPH: {<RB>+<RB>}\"\n",
    "\n",
    "# Second step: import the nltk parser to process each sentence\n",
    "chunk_parser_adv = nltk.RegexpParser(grammar_advph)\n",
    "\n",
    "advph_tags = []\n",
    "for sent in taggedtext:\n",
    "    if len(sent) > 0:\n",
    "        tree = chunk_parser_adv.parse(sent)\n",
    "        for subtree in tree.subtrees():\n",
    "            if subtree.label() == 'ADVPH':\n",
    "                advph_tags.append(subtree)\n",
    "                \n",
    "# Visualizing the actual adjective phrase\n",
    "adverb_phrases = []\n",
    "for sent in advph_tags:\n",
    "    temp = ''\n",
    "    for w, t in sent:\n",
    "        temp += w+ ' '    \n",
    "    adverb_phrases.append(temp)\n",
    "    \n",
    "print('First 10 adverb phrases: ', adverb_phrases[:10])\n",
    "\n",
    "# top 50 adjective phrases\n",
    "freq_advph = nltk.FreqDist(adverb_phrases)\n",
    "\n",
    "print('Top adverb phrases by frequency: ')\n",
    "for word, freq in freq_advph.most_common(50):\n",
    "    print(word, freq)\n",
    "\n",
    "            \n",
    "#print the list of our sentences:\n",
    "print('Length of adverb phrase sentences: ', len(advph_tags))"
   ]
  },
  {
   "cell_type": "code",
   "execution_count": 12,
   "metadata": {},
   "outputs": [
    {
     "name": "stdout",
     "output_type": "stream",
     "text": [
      "                      freq\n",
      "adv                       \n",
      "so then                  5\n",
      "n't much                 1\n",
      "certainly very much      1\n",
      "now i                    1\n",
      "very slowly              2\n",
      "...                    ...\n",
      "never yet                1\n",
      "not entirely             1\n",
      "so now                   1\n",
      "surely not               1\n",
      "very carefully           1\n",
      "\n",
      "[80 rows x 1 columns]\n"
     ]
    }
   ],
   "source": [
    "#freq_advph\n",
    "df_fadv = pd.DataFrame.from_dict(freq_advph, orient='index')\n",
    "df_fadv.columns = ['freq']\n",
    "df_fadv.index.name = 'adv'\n",
    "print(df_fadv)"
   ]
  },
  {
   "cell_type": "code",
   "execution_count": 13,
   "metadata": {},
   "outputs": [
    {
     "data": {
      "text/plain": [
       "<AxesSubplot:>"
      ]
     },
     "execution_count": 13,
     "metadata": {},
     "output_type": "execute_result"
    },
    {
     "data": {
      "image/png": "[encoded data removed]",
      "text/plain": [
       "<Figure size 432x288 with 1 Axes>"
      ]
     },
     "metadata": {
      "needs_background": "light"
     },
     "output_type": "display_data"
    }
   ],
   "source": [
    "freqfreq2 = df_fadv['freq'].value_counts()\n",
    "\n",
    "freqfreq2.plot.barh()"
   ]
  },
  {
   "cell_type": "code",
   "execution_count": 14,
   "metadata": {},
   "outputs": [
    {
     "name": "stdout",
     "output_type": "stream",
     "text": [
      "little 255\n",
      "good 46\n",
      "more 25\n",
      "other 22\n",
      "old 19\n",
      "great 19\n",
      "small 17\n",
      "much 17\n",
      "first 16\n",
      "last 15\n",
      "true 14\n",
      "able 13\n",
      "beautiful 12\n",
      "important 12\n",
      "same 12\n",
      "long 10\n",
      "such 9\n",
      "sure 9\n",
      "sad 9\n",
      "bad 9\n",
      "single 9\n",
      "happy 9\n",
      "conceited 9\n",
      "only 8\n",
      "magnificent 7\n",
      "difficult 7\n",
      "enough 7\n",
      "possible 7\n",
      "extinct 7\n",
      "many 6\n",
      "unique 6\n",
      "fresh 6\n",
      "different 6\n",
      "responsible 6\n",
      "proud 5\n",
      "second 5\n",
      "new 5\n",
      "big 5\n",
      "invisible 5\n",
      "own 5\n",
      "golden 5\n",
      "present 5\n",
      "general 5\n",
      "afraid 5\n",
      "whole 4\n",
      "extraordinary 4\n",
      "funny 4\n",
      "asteroid 4\n",
      "serious 4\n",
      "turkish 4\n"
     ]
    }
   ],
   "source": [
    "# Top 50 adjective tokens\n",
    "\n",
    "adjective_tokens = []\n",
    "for sentence in taggedtext:\n",
    "    for word, pos in sentence:\n",
    "        if pos in ['JJ', 'JJR', 'JJS']: # adjective, comparative, superlative (can you think of another way to write this regex?...)\n",
    "            if len(word)>1:\n",
    "                adjective_tokens.append(word)\n",
    "freq_adjective = nltk.FreqDist(adjective_tokens)\n",
    "\n",
    "for word, freq in freq_adjective.most_common(50):\n",
    "    print(word,freq)"
   ]
  },
  {
   "cell_type": "code",
   "execution_count": 15,
   "metadata": {},
   "outputs": [
    {
     "name": "stdout",
     "output_type": "stream",
     "text": [
      "not 166\n",
      "very 81\n",
      "so 78\n",
      "then 74\n",
      "too 43\n",
      "never 41\n",
      "again 36\n",
      "just 33\n",
      "now 31\n",
      "n't 29\n",
      "only 26\n",
      "here 24\n",
      "away 22\n",
      "once 21\n",
      "yes 19\n",
      "always 17\n",
      "also 17\n",
      "back 17\n",
      "much 16\n",
      "more 16\n",
      "even 16\n",
      "still 13\n",
      "there 12\n",
      "ever 11\n",
      "already 10\n",
      "down 10\n",
      "far 10\n",
      "well 10\n",
      "alone 9\n",
      "most 9\n",
      "certainly 9\n",
      "perhaps 9\n",
      "as 9\n",
      "yet 8\n",
      "first 7\n",
      "really 6\n",
      "ago 6\n",
      "slowly 6\n",
      "exactly 6\n",
      "long 6\n",
      "else 5\n",
      "about 5\n",
      "altogether 5\n",
      "instead 4\n",
      "scarcely 4\n",
      "carefully 4\n",
      "however 4\n",
      "somewhere 4\n",
      "no 4\n",
      "longer 4\n"
     ]
    }
   ],
   "source": [
    "# Top 50 adverb tokens\n",
    "\n",
    "adverb_tokens = []\n",
    "for sentence in taggedtext:\n",
    "    for word, pos in sentence:\n",
    "        if pos in ['RB', 'RBR', 'RBS']: # adverb, comparative, superlative (again, you can look for ways to write this better!)\n",
    "            if len(word)>1:\n",
    "                adverb_tokens.append(word)\n",
    "freq_adverb = nltk.FreqDist(adverb_tokens)\n",
    "\n",
    "for word, freq in freq_adverb.most_common(50):\n",
    "    print(word,freq)"
   ]
  },
  {
   "cell_type": "code",
   "execution_count": 16,
   "metadata": {},
   "outputs": [],
   "source": [
    "## TO DO / YOUR TURN NOW!\n",
    "## NOUN EXTRACTION\n",
    "## VERB EXTRACTION\n",
    "## REMEMBER TO CHECK THE PENN POS TAGS LIST: https://www.ling.upenn.edu/courses/Fall_2003/ling001/penn_treebank_pos.html\n",
    "## TO FIND ALL TAGS"
   ]
  },
  {
   "cell_type": "code",
   "execution_count": 17,
   "metadata": {},
   "outputs": [
    {
     "name": "stdout",
     "output_type": "stream",
     "text": [
      "prince 185\n",
      "planet 69\n",
      "flower 55\n",
      "time 45\n",
      "stars 41\n",
      "sheep 39\n",
      "fox 36\n",
      "man 35\n",
      "nothing 32\n",
      "day 31\n",
      "morning 31\n",
      "king 31\n",
      "geographer 23\n",
      "men 22\n",
      "anything 21\n",
      "life 21\n",
      "grown-ups 20\n",
      "earth 20\n",
      "drawing 18\n",
      "water 18\n",
      "ah 17\n",
      "night 16\n",
      "consequence 16\n",
      "baobabs 16\n",
      "desert 15\n",
      "friend 15\n",
      "one 15\n",
      "lamp 15\n",
      "people 14\n",
      "question 14\n",
      "thing 14\n",
      "flowers 14\n",
      "order 13\n",
      "orders 13\n",
      "snake 13\n",
      "years 12\n",
      "boa 12\n",
      "place 12\n",
      "heart 12\n",
      "thorns 12\n",
      "volcanoes 12\n",
      "lamplighter 12\n",
      "number 11\n",
      "something 11\n",
      "world 11\n",
      "matters 11\n",
      "everything 11\n",
      "way 11\n",
      "sunset 11\n",
      "use 11\n"
     ]
    }
   ],
   "source": [
    "# Top 50 noun tokens\n",
    "\n",
    "noun_tokens = []\n",
    "for sentence in taggedtext:\n",
    "    for word, pos in sentence:\n",
    "        if pos in ['NN', 'NNS', 'NNP', 'NNPS']: #noun, noun plural, proper noun sing, proper noun pl\n",
    "            if len(word)>1:\n",
    "                noun_tokens.append(word)\n",
    "freq_noun = nltk.FreqDist(noun_tokens)\n",
    "\n",
    "for word, freq in freq_noun.most_common(50):\n",
    "    print(word,freq)"
   ]
  },
  {
   "cell_type": "code",
   "execution_count": 18,
   "metadata": {},
   "outputs": [
    {
     "name": "stdout",
     "output_type": "stream",
     "text": [
      "is 298\n",
      "said 195\n",
      "was 193\n",
      "have 143\n",
      "are 136\n",
      "be 106\n",
      "do 83\n",
      "had 79\n",
      "am 56\n",
      "has 38\n",
      "were 37\n",
      "made 37\n",
      "know 36\n",
      "did 35\n",
      "been 32\n",
      "come 32\n",
      "see 30\n",
      "make 29\n",
      "asked 27\n",
      "does 27\n",
      "say 23\n",
      "go 23\n",
      "look 23\n",
      "understand 22\n",
      "answered 20\n",
      "came 20\n",
      "replied 19\n",
      "want 18\n",
      "put 18\n",
      "added 17\n",
      "looked 16\n",
      "went 16\n",
      "saw 15\n",
      "took 14\n",
      "live 14\n",
      "think 14\n",
      "rose 14\n",
      "seemed 12\n",
      "looking 12\n",
      "set 11\n",
      "draw 11\n",
      "take 11\n",
      "tell 11\n",
      "love 11\n",
      "laughed 11\n",
      "let 11\n",
      "seen 10\n",
      "find 10\n",
      "demanded 10\n",
      "get 10\n"
     ]
    }
   ],
   "source": [
    "# Top 50 verb tokens\n",
    "\n",
    "verb_tokens = []\n",
    "for sentence in taggedtext:\n",
    "    for word, pos in sentence:\n",
    "        if pos in ['VB', 'VBD', 'VBG', 'VBN', 'VBP', 'VBZ']: #verb, past, present, past p, sing present, 3rd person sing\n",
    "            if len(word)>1:\n",
    "                verb_tokens.append(word)\n",
    "freq_verb = nltk.FreqDist(verb_tokens)\n",
    "\n",
    "for word, freq in freq_verb.most_common(50):\n",
    "    print(word,freq)"
   ]
  },
  {
   "cell_type": "code",
   "execution_count": 19,
   "metadata": {},
   "outputs": [
    {
     "name": "stdout",
     "output_type": "stream",
     "text": [
      "Length of adjective phrase sentences:  183\n",
      "Length of adverb phrase sentences:  110\n",
      "Length of adjectives:  1160\n",
      "Length of adverbs:  1230\n",
      "Length of nouns:  2949\n",
      "Length of verbs:  3381\n"
     ]
    }
   ],
   "source": [
    "print('Length of adjective phrase sentences: ', len(adjph_tags))\n",
    "print('Length of adverb phrase sentences: ', len(advph_tags))\n",
    "print('Length of adjectives: ', len(adjective_tokens))\n",
    "print('Length of adverbs: ', len(adverb_tokens))\n",
    "print('Length of nouns: ', len(noun_tokens))\n",
    "print('Length of verbs: ', len(verb_tokens))"
   ]
  },
  {
   "cell_type": "code",
   "execution_count": 20,
   "metadata": {},
   "outputs": [
    {
     "name": "stdout",
     "output_type": "stream",
     "text": [
      "383\n"
     ]
    }
   ],
   "source": [
    "# Now we have two lists of POS tags combinations we can compare\n",
    "# We need to get the sentences back from the tagging exercise and run some stats\n",
    "\n",
    "# Create a list of original sentences from the ADJECTIVE phrase subset:\n",
    "adjph_whole_sentences = []\n",
    "\n",
    "# loop over the sentences in the adjective phrase sentences we created:\n",
    "for sents in adjph_tags:\n",
    "    temp=''\n",
    "    for (word,tag) in sents:\n",
    "        temp += word+' '\n",
    "        adjph_whole_sentences.append(temp)\n",
    "        \n",
    "print(len(adjph_whole_sentences))"
   ]
  },
  {
   "cell_type": "code",
   "execution_count": 21,
   "metadata": {},
   "outputs": [
    {
     "name": "stdout",
     "output_type": "stream",
     "text": [
      "224\n"
     ]
    }
   ],
   "source": [
    "# Create a list of original sentences from the ADVERB phrase subset:\n",
    "advph_whole_sentences = []\n",
    "\n",
    "# loop over the sentences in the adjective phrase sentences we created:\n",
    "for sents in advph_tags:\n",
    "    temp=''\n",
    "    for (word,tag) in sents:\n",
    "        temp += word+' '\n",
    "        advph_whole_sentences.append(temp)\n",
    "        \n",
    "print(len(advph_whole_sentences))"
   ]
  },
  {
   "cell_type": "code",
   "execution_count": 22,
   "metadata": {},
   "outputs": [
    {
     "name": "stdout",
     "output_type": "stream",
     "text": [
      "464\n"
     ]
    }
   ],
   "source": [
    "# OPTIONAL STEP: Combine lists together to have a single list of adjective/adverb phrases:\n",
    "# Useful to know which sentences are heavy in qualifiers\n",
    "\n",
    "# create a new variable to store all adjective phrase sentences\n",
    "adv_adj_phrase_sentences = adjph_whole_sentences\n",
    "\n",
    "# iterate over adverb phrase sentences\n",
    "for sent in advph_whole_sentences:\n",
    "    # if a sentence is not in the adjective phrases list imported\n",
    "    if sent not in adv_adj_phrase_sentences:\n",
    "        # attach that sentence\n",
    "        adv_adj_phrase_sentences.append(sent)\n",
    "\n",
    "# print the lenght of the list (i.e. number of sentences with both adjective and adverb phrases)\n",
    "print(len(adv_adj_phrase_sentences))\n"
   ]
  },
  {
   "cell_type": "code",
   "execution_count": 23,
   "metadata": {},
   "outputs": [
    {
     "name": "stdout",
     "output_type": "stream",
     "text": [
      "47.5465872156013\n"
     ]
    }
   ],
   "source": [
    "# Following our NLTK textbook, Writing Structural Programs chapter\n",
    "# section on Procedural vs Declarative style (http://www.nltk.org/book_1ed/ch04.html) \n",
    "\n",
    "## CORPUS STATISTICS--SENTENCES LENGTH\n",
    "\n",
    "# Calculating the average length of sentences in the entire corpus\n",
    "# from http://www.nltk.org/book_1ed/ch04.html\n",
    "total_corpus = sum(len(sent) for sent in textsplit) # remember: 'textsplit' is our text split into sentences\n",
    "print(total_corpus / len(textsplit))"
   ]
  },
  {
   "cell_type": "code",
   "execution_count": 24,
   "metadata": {},
   "outputs": [
    {
     "name": "stdout",
     "output_type": "stream",
     "text": [
      "8.849137931034482\n"
     ]
    }
   ],
   "source": [
    "# Calculate the average length of an adjective phrase sentence\n",
    "# We can then compare the average length of the adjective phrases to \n",
    "# the average sentences we calculated for all sentences in the corpus\n",
    "total_adjph_sentences = sum(len(sent) for sent in adjph_whole_sentences) # adjph_whole_sentences stores our adjective phrases\n",
    "print(total_adjph_sentences / len(adjph_whole_sentences))"
   ]
  },
  {
   "cell_type": "code",
   "execution_count": null,
   "metadata": {},
   "outputs": [],
   "source": []
  }
 ],
 "metadata": {
  "kernelspec": {
   "display_name": "Python 3 (ipykernel)",
   "language": "python",
   "name": "python3"
  },
  "language_info": {
   "codemirror_mode": {
    "name": "ipython",
    "version": 3
   },
   "file_extension": ".py",
   "mimetype": "text/x-python",
   "name": "python",
   "nbconvert_exporter": "python",
   "pygments_lexer": "ipython3",
   "version": "3.9.7"
  }
 },
 "nbformat": 4,
 "nbformat_minor": 2
}
