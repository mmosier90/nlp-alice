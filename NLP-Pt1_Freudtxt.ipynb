{
 "cells": [
  {
   "cell_type": "code",
   "execution_count": 1,
   "id": "9835cc0f",
   "metadata": {},
   "outputs": [],
   "source": [
    "import nltk\n",
    "import re"
   ]
  },
  {
   "cell_type": "code",
   "execution_count": 13,
   "id": "acd26e4b",
   "metadata": {},
   "outputs": [
    {
     "data": {
      "text/plain": [
       "345344"
      ]
     },
     "execution_count": 13,
     "metadata": {},
     "output_type": "execute_result"
    }
   ],
   "source": [
    "from urllib import request\n",
    "url = \"https://www.gutenberg.org/files/44917/44917-0.txt\"\n",
    "response = request.urlopen(url)\n",
    "raw = response.read()\n",
    "freud = raw.decode(\"utf-8-sig\")\n",
    "len(freud)"
   ]
  },
  {
   "cell_type": "code",
   "execution_count": 14,
   "id": "c9dfd845",
   "metadata": {},
   "outputs": [
    {
     "data": {
      "text/plain": [
       "66632"
      ]
     },
     "execution_count": 14,
     "metadata": {},
     "output_type": "execute_result"
    }
   ],
   "source": [
    "## TOKENIZE\n",
    "freudtokens = nltk.word_tokenize(freud)\n",
    "len(freudtokens)"
   ]
  },
  {
   "cell_type": "code",
   "execution_count": 15,
   "id": "c02a3b54",
   "metadata": {},
   "outputs": [
    {
     "data": {
      "text/plain": [
       "66632"
      ]
     },
     "execution_count": 15,
     "metadata": {},
     "output_type": "execute_result"
    }
   ],
   "source": [
    "## LOWER\n",
    "freudwords = [w.lower() for w in freudtokens]\n",
    "len(freudwords)"
   ]
  },
  {
   "cell_type": "code",
   "execution_count": 41,
   "id": "de4e2512",
   "metadata": {},
   "outputs": [
    {
     "name": "stdout",
     "output_type": "stream",
     "text": [
      ", \t 4850\n",
      "the \t 4075\n",
      "of \t 2344\n",
      "to \t 1597\n",
      ". \t 1562\n",
      "and \t 1438\n",
      "in \t 1332\n",
      "a \t 1266\n",
      "he \t 827\n",
      "that \t 815\n"
     ]
    }
   ],
   "source": [
    "## FREQUENCY\n",
    "from nltk import FreqDist\n",
    "ndist=FreqDist(freudwords)\n",
    "nitems = ndist.most_common(10)\n",
    "for item in nitems:\n",
    "    print (item[0], '\\t', item[1])"
   ]
  },
  {
   "cell_type": "code",
   "execution_count": 42,
   "id": "3ba7a9b0",
   "metadata": {},
   "outputs": [
    {
     "name": "stdout",
     "output_type": "stream",
     "text": [
      "(',', 4850)\n",
      "('the', 4075)\n",
      "('of', 2344)\n",
      "('to', 1597)\n",
      "('.', 1562)\n",
      "('and', 1438)\n",
      "('in', 1332)\n",
      "('a', 1266)\n",
      "('he', 827)\n",
      "('that', 815)\n"
     ]
    }
   ],
   "source": [
    "topkeys = ndist.most_common(10)\n",
    "for pair in topkeys:\n",
    "    print(pair)"
   ]
  },
  {
   "cell_type": "code",
   "execution_count": 43,
   "id": "cf0063ce",
   "metadata": {},
   "outputs": [
    {
     "name": "stdout",
     "output_type": "stream",
     "text": [
      "(',', 0.07278784968183455)\n",
      "('the', 0.06115680153679914)\n",
      "('of', 0.035178292712210346)\n",
      "('to', 0.023967463080802016)\n",
      "('.', 0.02344218993876816)\n",
      "('and', 0.021581222235562494)\n",
      "('in', 0.019990395005402808)\n",
      "('a', 0.018999879937567535)\n",
      "('he', 0.01241145395605715)\n",
      "('that', 0.012231360307359827)\n"
     ]
    }
   ],
   "source": [
    "#normalized frequency\n",
    "numwords = len(freudwords)\n",
    "topkeysnorm=[(word, freq/numwords) for (word,freq) in topkeys]\n",
    "for pair in topkeysnorm:\n",
    "    print(pair)"
   ]
  },
  {
   "cell_type": "code",
   "execution_count": 17,
   "id": "0c8692e7",
   "metadata": {},
   "outputs": [
    {
     "name": "stdout",
     "output_type": "stream",
     "text": [
      "matched non-alphabetical\n"
     ]
    }
   ],
   "source": [
    "## NON-ALPHA FILTER\n",
    "pattern = re.compile('^[^a-z]+$')\n",
    "nonAlphaMatch = pattern.match('**')\n",
    "#  if it matched, print a message\n",
    "if nonAlphaMatch:\n",
    "    print ('matched non-alphabetical')"
   ]
  },
  {
   "cell_type": "code",
   "execution_count": 18,
   "id": "da520975",
   "metadata": {},
   "outputs": [],
   "source": [
    "# function\n",
    "def alpha_filter(w):\n",
    "  # pattern to match word of non-alphabetical characters\n",
    "  pattern = re.compile('^[^a-z]+$')\n",
    "  if (pattern.match(w)):\n",
    "    return True\n",
    "  else:\n",
    "    return False"
   ]
  },
  {
   "cell_type": "code",
   "execution_count": 20,
   "id": "0fb1724b",
   "metadata": {},
   "outputs": [
    {
     "name": "stdout",
     "output_type": "stream",
     "text": [
      "['project', 'gutenberg', \"'s\", 'delusion', 'and', 'dream', 'by', 'wilhelm', 'jensen', 'and', 'sigmund', 'freud', 'this', 'ebook', 'is', 'for', 'the', 'use', 'of', 'anyone', 'anywhere', 'at', 'no', 'cost', 'and', 'with', 'almost', 'no', 'restrictions', 'whatsoever', 'you', 'may', 'copy', 'it', 'give', 'it', 'away', 'or', 're-use', 'it', 'under', 'the', 'terms', 'of', 'the', 'project', 'gutenberg', 'license', 'included', 'with', 'this', 'ebook', 'or', 'online', 'at', 'www.gutenberg.org', 'title', 'delusion', 'and', 'dream', 'an', 'interpretation', 'in', 'the', 'light', 'of', 'psychoanalysis', 'of', 'gradiva', 'author', 'wilhelm', 'jensen', 'sigmund', 'freud', 'translator', 'helen', 'm.', 'downey', 'release', 'date', 'february', 'ebook', 'language', 'english', 'character', 'set', 'encoding', 'utf-8', 'start', 'of', 'this', 'project', 'gutenberg', 'ebook', 'delusion', 'and', 'dream', 'produced', 'by', 'sean']\n",
      "58110\n"
     ]
    }
   ],
   "source": [
    "# apply the function to freudwords\n",
    "alphafreudwords = [w for w in freudwords if not alpha_filter(w)]\n",
    "print(alphafreudwords[:100])\n",
    "print(len(alphafreudwords))"
   ]
  },
  {
   "cell_type": "code",
   "execution_count": 21,
   "id": "500c97b3",
   "metadata": {},
   "outputs": [],
   "source": [
    "# note the utf-8"
   ]
  },
  {
   "cell_type": "code",
   "execution_count": 22,
   "id": "fc551bbc",
   "metadata": {},
   "outputs": [
    {
     "data": {
      "text/plain": [
       "195"
      ]
     },
     "execution_count": 22,
     "metadata": {},
     "output_type": "execute_result"
    }
   ],
   "source": [
    "## STOPWORDS\n",
    "nltkstopwords = nltk.corpus.stopwords.words('english')\n",
    "morestopwords = ['could','would','might','must','need','sha','wo','y',\"'s\",\"'d\",\"'ll\",\"'t\",\"'m\",\"'re\",\"'ve\", \"n't\"]\n",
    "stopwords = nltkstopwords + morestopwords\n",
    "len(stopwords)"
   ]
  },
  {
   "cell_type": "code",
   "execution_count": 24,
   "id": "87c2ec15",
   "metadata": {},
   "outputs": [
    {
     "name": "stdout",
     "output_type": "stream",
     "text": [
      "27295\n"
     ]
    }
   ],
   "source": [
    "stoppedfreudwords = [w for w in alphafreudwords if not w in stopwords]\n",
    "print(len(stoppedfreudwords))"
   ]
  },
  {
   "cell_type": "code",
   "execution_count": 25,
   "id": "3b028c90",
   "metadata": {},
   "outputs": [
    {
     "name": "stdout",
     "output_type": "stream",
     "text": [
      "('one', 228)\n",
      "('gradiva', 189)\n",
      "('dream', 174)\n",
      "('hanold', 161)\n",
      "('delusion', 132)\n",
      "('however', 120)\n",
      "('yet', 119)\n",
      "('norbert', 112)\n",
      "('us', 105)\n",
      "('pompeii', 103)\n"
     ]
    }
   ],
   "source": [
    "## FREQUENCY #2\n",
    "freuddist = FreqDist(stoppedfreudwords)\n",
    "freuditems = freuddist.most_common(10)\n",
    "for item in freuditems:\n",
    "  print(item)"
   ]
  },
  {
   "cell_type": "code",
   "execution_count": 45,
   "id": "08471f11",
   "metadata": {},
   "outputs": [
    {
     "name": "stdout",
     "output_type": "stream",
     "text": [
      "('one', 0.008353178237772485)\n",
      "('gradiva', 0.006924345118153508)\n",
      "('dream', 0.006374793918300055)\n",
      "('hanold', 0.005898516211760396)\n",
      "('delusion', 0.004836050558710387)\n",
      "('however', 0.004396409598827624)\n",
      "('yet', 0.004359772852170727)\n",
      "('norbert', 0.0041033156255724495)\n",
      "('us', 0.0038468583989741713)\n",
      "('pompeii', 0.0037735849056603774)\n"
     ]
    }
   ],
   "source": [
    "#normalized frequency\n",
    "numwords2 = len(stoppedfreudwords)\n",
    "topkeys2norm=[(word, freq/numwords2) for (word,freq) in freuditems]\n",
    "for pair in topkeys2norm:\n",
    "    print(pair)"
   ]
  },
  {
   "cell_type": "code",
   "execution_count": null,
   "id": "d7e4a015",
   "metadata": {},
   "outputs": [],
   "source": []
  },
  {
   "cell_type": "code",
   "execution_count": 26,
   "id": "ab5ab8b8",
   "metadata": {},
   "outputs": [
    {
     "name": "stdout",
     "output_type": "stream",
     "text": [
      "[('project', 'gutenberg'), ('gutenberg', \"'s\"), (\"'s\", 'delusion'), ('delusion', 'and'), ('and', 'dream'), ('dream', ','), (',', 'by'), ('by', 'wilhelm'), ('wilhelm', 'jensen'), ('jensen', 'and'), ('and', 'sigmund'), ('sigmund', 'freud'), ('freud', 'this'), ('this', 'ebook'), ('ebook', 'is'), ('is', 'for'), ('for', 'the'), ('the', 'use'), ('use', 'of'), ('of', 'anyone')]\n"
     ]
    }
   ],
   "source": [
    "## BIGRAMS\n",
    "# use \"words\", don't remove stopwords and symbols yet\n",
    "freudbigrams = list(nltk.bigrams(freudwords))\n",
    "print(freudbigrams[:20])"
   ]
  },
  {
   "cell_type": "code",
   "execution_count": 27,
   "id": "59c1b075",
   "metadata": {},
   "outputs": [],
   "source": [
    "from nltk.collocations import *\n",
    "bigram_measures = nltk.collocations.BigramAssocMeasures()"
   ]
  },
  {
   "cell_type": "code",
   "execution_count": 28,
   "id": "5f6ec9fb",
   "metadata": {},
   "outputs": [],
   "source": [
    "finder = BigramCollocationFinder.from_words(freudwords)\n",
    "scored = finder.score_ngrams(bigram_measures.raw_freq)"
   ]
  },
  {
   "cell_type": "code",
   "execution_count": 29,
   "id": "64516c36",
   "metadata": {},
   "outputs": [
    {
     "name": "stdout",
     "output_type": "stream",
     "text": [
      "(('of', 'the'), 0.010130267739224397)\n",
      "((',', 'and'), 0.007699003481810541)\n",
      "(('in', 'the'), 0.006003121623244087)\n",
      "((',', 'but'), 0.0034818105414815706)\n",
      "(('to', 'the'), 0.0029715452035058232)\n",
      "((',', 'the'), 0.0027314203385760596)\n",
      "((',', 'in'), 0.0026563813182855084)\n",
      "(('.', 'the'), 0.002416256453355745)\n",
      "(('on', 'the'), 0.002416256453355745)\n",
      "((',', 'as'), 0.0024012486492976347)\n"
     ]
    }
   ],
   "source": [
    "for bscore in scored[:10]:\n",
    "    print(bscore)"
   ]
  },
  {
   "cell_type": "code",
   "execution_count": 30,
   "id": "071a8761",
   "metadata": {},
   "outputs": [
    {
     "name": "stdout",
     "output_type": "stream",
     "text": [
      "(('of', 'the'), 0.010130267739224397)\n",
      "(('in', 'the'), 0.006003121623244087)\n",
      "(('to', 'the'), 0.0029715452035058232)\n",
      "(('on', 'the'), 0.002416256453355745)\n",
      "(('he', 'had'), 0.002221155000600312)\n",
      "(('with', 'the'), 0.0021611237843678715)\n",
      "(('of', 'a'), 0.002026053547844879)\n",
      "(('at', 'the'), 0.001860967703205667)\n",
      "(('that', 'he'), 0.0018459598991475566)\n",
      "(('to', 'him'), 0.001725897466682675)\n",
      "(('from', 'the'), 0.0017108896626245648)\n",
      "(('to', 'be'), 0.0016658662504502341)\n",
      "(('for', 'the'), 0.001590827230159683)\n",
      "(('in', 'a'), 0.001590827230159683)\n",
      "(('and', 'the'), 0.0015758194261015729)\n",
      "(('by', 'the'), 0.0015307960139272422)\n",
      "(('in', 'his'), 0.0014707647976948013)\n",
      "(('of', 'his'), 0.0013507023652299195)\n",
      "(('that', 'the'), 0.0012006243246488173)\n",
      "(('the', 'dream'), 0.0011856165205907073)\n",
      "(('norbert', 'hanold'), 0.0011255853043582664)\n",
      "(('it', 'was'), 0.0010505462840677152)\n",
      "(('of', 'course'), 0.0010505462840677152)\n",
      "(('of', 'this'), 0.0010355384800096049)\n",
      "(('the', 'same'), 0.0010355384800096049)\n",
      "(('as', 'if'), 0.0010055228718933845)\n",
      "(('did', 'not'), 0.0009905150678352743)\n",
      "(('of', 'her'), 0.0009604994597190539)\n",
      "(('it', 'is'), 0.0008854604394285028)\n",
      "(('the', 'young'), 0.0008554448313122824)\n"
     ]
    }
   ],
   "source": [
    "# apply a filter to remove non-alphabetical tokens from the emma bigram finder\n",
    "finder.apply_word_filter(alpha_filter)\n",
    "scored = finder.score_ngrams(bigram_measures.raw_freq)\n",
    "for bscore in scored[:30]:\n",
    "    print (bscore)"
   ]
  },
  {
   "cell_type": "code",
   "execution_count": 46,
   "id": "b108eaf7",
   "metadata": {},
   "outputs": [
    {
     "name": "stdout",
     "output_type": "stream",
     "text": [
      "(('norbert', 'hanold'), 0.0011255853043582664)\n",
      "(('project', 'gutenberg-tm'), 0.0008404370272541722)\n",
      "(('project', 'gutenberg'), 0.0004502341217433065)\n",
      "(('_g._', 'p'), 0.0003601872973946452)\n",
      "(('young', 'archæologist'), 0.0003301716892784248)\n",
      "(('thousand', 'years'), 0.00030015608116220433)\n",
      "(('two', 'thousand'), 0.0002851482771040941)\n",
      "(('gutenberg-tm', 'electronic'), 0.00027014047304598393)\n",
      "(('young', 'lady'), 0.00027014047304598393)\n",
      "(('zoë', 'bertgang'), 0.00027014047304598393)\n",
      "(('let', 'us'), 0.0002551326689878737)\n",
      "(('years', 'ago'), 0.0002551326689878737)\n",
      "(('electronic', 'works'), 0.00024012486492976348)\n",
      "(('first', 'time'), 0.00022511706087165325)\n",
      "(('noon', 'hour'), 0.00022511706087165325)\n",
      "(('strada', 'di'), 0.00021010925681354305)\n",
      "(('_g._', 'p.'), 0.00019510145275543282)\n",
      "(('archive', 'foundation'), 0.00019510145275543282)\n",
      "(('casa', 'di'), 0.00019510145275543282)\n",
      "(('gutenberg', 'literary'), 0.00019510145275543282)\n"
     ]
    }
   ],
   "source": [
    "# apply a filter to remove stop words\n",
    "finder.apply_word_filter(lambda w: w in stopwords)\n",
    "scored = finder.score_ngrams(bigram_measures.raw_freq)\n",
    "for bscore in scored[:20]:\n",
    "    print (bscore)"
   ]
  },
  {
   "cell_type": "code",
   "execution_count": 34,
   "id": "671bc156",
   "metadata": {},
   "outputs": [
    {
     "name": "stdout",
     "output_type": "stream",
     "text": [
      "(('#', '44917'), 16.02392757717438)\n",
      "((\"'as-is\", \"'\"), 16.02392757717438)\n",
      "(('13', '_a'), 16.02392757717438)\n",
      "(('4557', 'melan'), 16.02392757717438)\n",
      "(('_bruchstück', 'einer'), 16.02392757717438)\n",
      "(('_crepidine', 'viarum_'), 16.02392757717438)\n",
      "(('_en', 'masse_'), 16.02392757717438)\n",
      "(('_homo', 'sapiens_'), 16.02392757717438)\n",
      "(('_king', 'lear_'), 16.02392757717438)\n",
      "(('_lacerta', 'faraglionensis_'), 16.02392757717438)\n",
      "(('_manifest', 'dream-content_'), 16.02392757717438)\n",
      "(('_musca', 'domestica'), 16.02392757717438)\n",
      "(('_sante', 'de'), 16.02392757717438)\n",
      "(('_they', 'stretch'), 16.02392757717438)\n",
      "(('adjustable', 'deviations'), 16.02392757717438)\n",
      "(('admittedly', 'differentiated'), 16.02392757717438)\n",
      "(('anglo-american', 'chatter'), 16.02392757717438)\n",
      "(('arbitrarily', 'cemented'), 16.02392757717438)\n",
      "(('arcadian', 'huntress'), 16.02392757717438)\n",
      "(('arrius', 'diomedes'), 16.02392757717438)\n"
     ]
    }
   ],
   "source": [
    "### PMI\n",
    "finder3 = BigramCollocationFinder.from_words(freudwords)\n",
    "scored = finder3.score_ngrams(bigram_measures.pmi)\n",
    "for bscore in scored[:20]:\n",
    "    print (bscore)"
   ]
  },
  {
   "cell_type": "code",
   "execution_count": 35,
   "id": "8d0849f6",
   "metadata": {},
   "outputs": [
    {
     "name": "stdout",
     "output_type": "stream",
     "text": [
      "(('hundred', 'miles'), 13.438965076453222)\n",
      "(('honeymoon', 'travellers'), 12.438965076453222)\n",
      "(('sigmund', 'freud'), 12.438965076453222)\n",
      "(('public', 'domain'), 12.380071387399656)\n",
      "(('united', 'states'), 11.979533457815926)\n",
      "(('del', 'fauno'), 11.776000063730793)\n",
      "(('literary', 'archive'), 11.730013858456612)\n",
      "(('wilhelm', 'jensen'), 11.650469181646935)\n",
      "(('albergo', 'del'), 11.397488440477064)\n",
      "(('metal', 'brooch'), 11.380071387399653)\n",
      "(('almost', 'perpendicularly'), 11.26904007501091)\n",
      "(('manifest', 'dream-content'), 11.11703698156586)\n",
      "(('di', 'meleagro'), 11.069731266787503)\n",
      "(('technical', 'terms'), 11.060453453199493)\n",
      "(('archive', 'foundation'), 11.010121777649347)\n",
      "(('di', 'mercurio'), 10.944200384703645)\n",
      "(('thousand', 'years'), 10.854002575732068)\n",
      "(('_g._', 'p'), 10.75558052249186)\n",
      "(('gutenberg', 'literary'), 10.730013858456612)\n",
      "(('strada', 'di'), 10.707161187402795)\n",
      "(('casa', 'di'), 10.682708143678257)\n",
      "(('childhood', 'friendship'), 10.623996970285745)\n",
      "(('del', 'sole'), 10.574366202561142)\n",
      "(('native', 'city'), 10.56449595853708)\n",
      "(('_g._', 'p.'), 10.427451088436182)\n",
      "(('set', 'forth'), 10.412902779867027)\n",
      "(('years', 'ago'), 10.35650291626125)\n",
      "(('open', 'window'), 10.123923367151098)\n",
      "(('noon', 'hour'), 9.979533457815927)\n",
      "(('electronic', 'works'), 9.911488070392828)\n"
     ]
    }
   ],
   "source": [
    "# to get good results, must first apply frequency filter\n",
    "finder.apply_freq_filter(5)\n",
    "scored = finder.score_ngrams(bigram_measures.pmi)\n",
    "for bscore in scored[:30]:\n",
    "    print (bscore)"
   ]
  },
  {
   "cell_type": "code",
   "execution_count": null,
   "id": "a64b6625",
   "metadata": {},
   "outputs": [],
   "source": []
  }
 ],
 "metadata": {
  "kernelspec": {
   "display_name": "Python 3 (ipykernel)",
   "language": "python",
   "name": "python3"
  },
  "language_info": {
   "codemirror_mode": {
    "name": "ipython",
    "version": 3
   },
   "file_extension": ".py",
   "mimetype": "text/x-python",
   "name": "python",
   "nbconvert_exporter": "python",
   "pygments_lexer": "ipython3",
   "version": "3.9.7"
  }
 },
 "nbformat": 4,
 "nbformat_minor": 5
}
